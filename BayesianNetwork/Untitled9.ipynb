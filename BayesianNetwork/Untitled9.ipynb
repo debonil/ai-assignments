{
  "nbformat": 4,
  "nbformat_minor": 0,
  "metadata": {
    "colab": {
      "name": "Untitled9.ipynb",
      "provenance": [],
      "collapsed_sections": []
    },
    "kernelspec": {
      "name": "python3",
      "display_name": "Python 3"
    },
    "language_info": {
      "name": "python"
    }
  },
  "cells": [
    {
      "cell_type": "code",
      "execution_count": 5,
      "metadata": {
        "colab": {
          "base_uri": "https://localhost:8080/"
        },
        "id": "rIceI0cVGgkD",
        "outputId": "398f9d00-45fc-4019-b3e0-8ffa35f65c63"
      },
      "outputs": [
        {
          "output_type": "stream",
          "name": "stdout",
          "text": [
            "\tα 3.7098857253694106\n",
            "𝑃(𝑎1|𝑥2, 𝑦3)  0.09827911103848834\n",
            "\n",
            "𝑃(𝑎2|𝑥2, 𝑦3)  0.21163624355586164\n",
            "\n",
            "𝑃(𝑎3|𝑥2, 𝑦3)  0.69008464540565\n",
            "\n"
          ]
        }
      ],
      "source": [
        "\n",
        "# Events and outcomes\n",
        "\n",
        "A = {'a1': 0, 'a2': 1, 'a3': 2}\n",
        "B = {'b1': 0, 'b2': 1}\n",
        "C = {'c1': 0, 'c2': 1}\n",
        "M = {'m1': 0, 'm2': 1, 'm3': 2}\n",
        "X = {'x1': 0, 'x2': 1}\n",
        "Y = {'y1': 0, 'y2': 1, 'y3': 2}\n",
        "\n",
        "\n",
        "# Conditional Probabilities as per given Bayesian Network\n",
        "\n",
        "\n",
        "ProbA = [0.12, 0.22, 0.66]\n",
        "ProbB = [0.66, 0.34]\n",
        "ProbC = [0.28, 0.72]\n",
        "\n",
        "ProbM = [\n",
        "    # m1, m2, m3\n",
        "   [ [[0.70, 0.20, 0.10],  # a1,b1,c1\n",
        "    [0.65, 0.1, 0.25],  # a2,b1,c1\n",
        "    [0.65, 0.35, 0.10]],  # a3,b1,c1\n",
        "[\n",
        "    [0.55, 0.02, 0.25],  # a1,b2,c1\n",
        "    [0.35, 0.45, 0.20],  # a2,b2,c1\n",
        "    [0.4, 0.5, 0.01]]],  # a3,b2,c1\n",
        "[\n",
        "   [ [0.4, 0.1, 0.5],  # a1,b1,c2\n",
        "    [0.1, 0.5, 0.4],  # a2,b1,c2\n",
        "    [0.1, 0.2, 0.7]],  # a3,b1,c2\n",
        "\n",
        "   [ [0.1, 0.4, 0.5],  # a1,b2,c2\n",
        "    [0.01, 0.01, 0.98],  # a2,b2,c2\n",
        "    [0.01, 0.14, 0.85]]]  # a3,b2,c2\n",
        "]\n",
        "\n",
        "ProbX = [\n",
        "    # x1, x2\n",
        "    [0.30, 0.70],  # m1\n",
        "    [0.80, 0.20],  # m2\n",
        "    [0.38, 0.62],  # m3\n",
        "]\n",
        "\n",
        "ProbY = [\n",
        "    # y1, y2, y3\n",
        "    [0.75, 0.15, 0.10],  # m1\n",
        "    [0.25, 0.25, 0.5],  # m2\n",
        "    [0.05, 0.25, 0.7],  # m3\n",
        "]\n",
        "\n",
        "\n",
        "\n",
        "\n",
        "\n",
        "def f(a):\n",
        "    sum = 0\n",
        "    for b in B.values():\n",
        "        for c in C.values():\n",
        "          f2 = 0\n",
        "          for m in M.values():\n",
        "              f2 += ProbM[c][b][a][m] * ProbX[m][X['x2']]*ProbY[m][Y['y3']]\n",
        "              #print(f'f2',f2)\n",
        "          sum += ProbB[b] * ProbC[c] * f2\n",
        "    \n",
        "    return ProbA[a] * sum\n",
        "\n",
        "\n",
        "ProbAxy = 0\n",
        "\n",
        "for a in A.values():\n",
        "    ProbAxy += f(a)\n",
        "\n",
        "\n",
        "alpha = 1 / ProbAxy\n",
        "\n",
        "print(f'\tα {alpha}')\n",
        "\n",
        "\n",
        "for a in A.values():\n",
        "  #p1 = alpha * f(a)\n",
        "    print(f'𝑃(𝑎{a+1}|𝑥2, 𝑦3)  {alpha * f(a)}\\n')\n"
      ]
    }
  ]
}